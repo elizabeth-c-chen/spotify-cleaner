{
 "cells": [
  {
   "cell_type": "code",
   "execution_count": null,
   "id": "17838941",
   "metadata": {},
   "outputs": [],
   "source": [
    "import os\n",
    "import sys\n",
    "import math\n",
    "import time\n",
    "import numpy as numpy\n",
    "import pandas as pd\n",
    "import tekore as tk\n",
    "\n",
    "from pprint import PrettyPrinter\n",
    "\n",
    "pp = PrettyPrinter()"
   ]
  },
  {
   "cell_type": "code",
   "execution_count": null,
   "id": "8d32942b",
   "metadata": {},
   "outputs": [],
   "source": [
    "class SpotifyCleaner:\n",
    "    \n",
    "    def __init__(self, conf):\n",
    "        token = tk.prompt_for_user_token(*conf, scope=tk.scope.every)  \n",
    "        self.spotify = tk.Spotify(token, chunked_on=True)\n",
    "        self.user_id = self.spotify.current_user().id\n",
    "        self.root_dir = 'Spotify_Data-' + self.user_id # Name of folder containing exported data\n",
    "        self.store = None\n",
    "        self.empty_store = None\n",
    "        self.cleaned_store = None\n",
    "\n",
    "    def inventory_all_artists(self):\n",
    "        # Go through saved songs \n",
    "        songs_filepath = os.path.join(self.root_dir, 'Saved_Library/Liked_Songs.csv')\n",
    "        songs_df = pd.read_csv(songs_filepath)\n",
    "        artists_from_songs = list(songs_df['artist'].unique())\n",
    "\n",
    "        # Go through saved albums\n",
    "        albums_filepath = os.path.join(self.root_dir, 'Saved_Library/Liked_Albums.csv')\n",
    "        albums_df = pd.read_csv(albums_filepath)\n",
    "        artists_from_albums = list(albums_df['artist'].unique())\n",
    "        # Go through all playlists\n",
    "        playlist_dir = os.path.join(self.root_dir, 'Playlists')\n",
    "        artists_from_playlists = []\n",
    "        for playlist_filepath in os.listdir(playlist_dir):\n",
    "            if not playlist_filepath.startswith(\".\"):\n",
    "                playlist_df = pd.read_csv(os.path.join(playlist_dir, playlist_filepath))\n",
    "                artists_from_playlists += list(playlist_df['artist'].unique())\n",
    "        # Merge all three groups and return them as a set (no duplicates)\n",
    "        all_artists = artists_from_songs + artists_from_albums + artists_from_playlists\n",
    "        return set(all_artists)\n",
    "\n",
    "    def create_inventory_by_artist(self):\n",
    "        artists = self.inventory_all_artists()\n",
    "        self.store = {a: {'Songs': {}} for a in artists}\n",
    "        self.empty_store = {a: {'Songs': {}} for a in artists}\n",
    "\n",
    "    def inventory_songs_from_playlists(self):\n",
    "        playlist_dir = os.path.join(self.root_dir, 'Playlists')\n",
    "        for playlist_filepath in os.listdir(playlist_dir):\n",
    "            if not playlist_filepath.startswith(\".\"):\n",
    "                playlist_df = pd.read_csv(os.path.join(playlist_dir, playlist_filepath))\n",
    "                for i in playlist_df.index:\n",
    "                    artist = playlist_df['artist'].iloc[i]\n",
    "                    song_title = playlist_df['name'].iloc[i]\n",
    "                    album_title = playlist_df['album'].iloc[i]\n",
    "                    song_id = playlist_df['id'].iloc[i]\n",
    "                    if not song_title in self.store[artist]['Songs'].keys():\n",
    "                        self.store[artist]['Songs'][song_title] = [(song_id, album_title)]\n",
    "                    else:\n",
    "                        self.store[artist]['Songs'][song_title] += [(song_id, album_title)]\n",
    "        for artist in self.store.keys():\n",
    "            for song_title in self.store[artist]['Songs'].keys():\n",
    "                self.store[artist]['Songs'][song_title] = list(set(self.store[artist]['Songs'][song_title]))\n",
    "                \n",
    "    def find_multiple_version_songs(self):\n",
    "        self.multiple_versions_store = self.empty_store\n",
    "        tracks_to_look_up = []\n",
    "        look_up_index = 0\n",
    "        for artist in self.store.keys():\n",
    "            for song_title in self.store[artist]['Songs'].keys():\n",
    "                if len(self.store[artist]['Songs'][song_title]) > 1:\n",
    "                    index_track_map = []\n",
    "                    for item in self.store[artist]['Songs'][song_title]:\n",
    "                        tracks_to_look_up.append(item[0])\n",
    "                        index_track_map.append(look_up_index)\n",
    "                        look_up_index += 1\n",
    "                    self.multiple_versions_store[artist]['Songs'][song_title] = index_track_map\n",
    "        return tracks_to_look_up\n",
    "    \n",
    "    def retrieve_tracks_info(self):\n",
    "        tracks_to_look_up = self.find_multiple_version_songs()\n",
    "        all_tracks = self.spotify.tracks(tracks_to_look_up, market='from_token')\n",
    "        return all_tracks\n",
    "                        \n",
    "                        \n",
    "                    \n",
    "    def create_mapping_inventory(self):\n",
    "        # either use the info from spotify or just look at the album names \n",
    "        # probably harder to do album names\n",
    "        all_tracks = self.retrieve_tracks_info()\n",
    "        # then go through the multiple versions store\n",
    "        # for each song_title\n",
    "            # take the listed indexes of all_tracks\n",
    "            # look at info \n",
    "            # prioritize according to decided strategy        "
   ]
  },
  {
   "cell_type": "code",
   "execution_count": null,
   "id": "865995b7",
   "metadata": {},
   "outputs": [],
   "source": [
    "conf = tk.config_from_file('tekore.cfg')\n",
    "Cleaner = SpotifyCleaner(conf)"
   ]
  },
  {
   "cell_type": "code",
   "execution_count": null,
   "id": "eae055a6",
   "metadata": {
    "scrolled": true
   },
   "outputs": [],
   "source": [
    "Cleaner.create_inventory_by_artist()\n",
    "Cleaner.inventory_songs_from_playlists()"
   ]
  },
  {
   "cell_type": "code",
   "execution_count": null,
   "id": "d825f96e",
   "metadata": {},
   "outputs": [],
   "source": [
    "num_songs = 0\n",
    "\n",
    "for artist in Cleaner.store.keys():\n",
    "    num_songs += len(Cleaner.store[artist]['Songs'])\n",
    "    \n",
    "print(num_songs)"
   ]
  },
  {
   "cell_type": "code",
   "execution_count": null,
   "id": "f0282abf",
   "metadata": {},
   "outputs": [],
   "source": []
  }
 ],
 "metadata": {
  "kernelspec": {
   "display_name": "Python 3 (ipykernel)",
   "language": "python",
   "name": "python3"
  },
  "language_info": {
   "codemirror_mode": {
    "name": "ipython",
    "version": 3
   },
   "file_extension": ".py",
   "mimetype": "text/x-python",
   "name": "python",
   "nbconvert_exporter": "python",
   "pygments_lexer": "ipython3",
   "version": "3.9.7"
  }
 },
 "nbformat": 4,
 "nbformat_minor": 5
}
